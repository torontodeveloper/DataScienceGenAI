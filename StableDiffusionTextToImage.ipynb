{
  "nbformat": 4,
  "nbformat_minor": 0,
  "metadata": {
    "colab": {
      "provenance": []
    },
    "kernelspec": {
      "name": "python3",
      "display_name": "Python 3"
    },
    "language_info": {
      "name": "python"
    }
  },
  "cells": [
    {
      "cell_type": "code",
      "execution_count": 4,
      "metadata": {
        "colab": {
          "base_uri": "https://localhost:8080/"
        },
        "id": "cFnFCIEsNmnW",
        "outputId": "3f8f3ba3-ef26-4804-8f90-99aca78df816"
      },
      "outputs": [
        {
          "output_type": "stream",
          "name": "stdout",
          "text": [
            "Requirement already satisfied: Pillow in /usr/local/lib/python3.11/dist-packages (11.1.0)\n"
          ]
        }
      ],
      "source": [
        "!python3 -m pip install --upgrade Pillow"
      ]
    },
    {
      "cell_type": "code",
      "source": [
        "from io import BytesIO\n",
        "import IPython\n",
        "import json\n",
        "import os\n",
        "from PIL import Image\n",
        "import requests\n",
        "import time\n",
        "from google.colab import output"
      ],
      "metadata": {
        "id": "Yl537J_COHbd"
      },
      "execution_count": 6,
      "outputs": []
    },
    {
      "cell_type": "code",
      "source": [
        "STABILITY_KEY='sk-2phbFrf93WpnHxgCBxSWM6FGq51hCiyV3VssGo7lN49mxjXj'"
      ],
      "metadata": {
        "id": "gpcpoIleN7F6"
      },
      "execution_count": 11,
      "outputs": []
    },
    {
      "cell_type": "code",
      "source": [
        "#@title Define functions\n",
        "\n",
        "def send_generation_request(\n",
        "    host,\n",
        "    params,\n",
        "    files = None\n",
        "):\n",
        "    headers = {\n",
        "        \"Accept\": \"image/*\",\n",
        "        \"Authorization\": f\"Bearer {STABILITY_KEY}\"\n",
        "    }\n",
        "\n",
        "    if files is None:\n",
        "        files = {}\n",
        "\n",
        "    # Encode parameters\n",
        "    image = params.pop(\"image\", None)\n",
        "    mask = params.pop(\"mask\", None)\n",
        "    if image is not None and image != '':\n",
        "        files[\"image\"] = open(image, 'rb')\n",
        "    if mask is not None and mask != '':\n",
        "        files[\"mask\"] = open(mask, 'rb')\n",
        "    if len(files)==0:\n",
        "        files[\"none\"] = ''\n",
        "\n",
        "    # Send request\n",
        "    print(f\"Sending REST request to {host}...\")\n",
        "    response = requests.post(\n",
        "        host,\n",
        "        headers=headers,\n",
        "        files=files,\n",
        "        data=params\n",
        "    )\n",
        "    if not response.ok:\n",
        "        raise Exception(f\"HTTP Exception {response.status_code}: {response.text}\")\n",
        "\n",
        "    return response\n",
        "\n",
        "def send_async_generation_request(\n",
        "    host,\n",
        "    params,\n",
        "    files = None\n",
        "):\n",
        "    headers = {\n",
        "        \"Accept\": \"application/json\",\n",
        "        \"Authorization\": f\"Bearer {STABILITY_KEY}\"\n",
        "    }\n",
        "\n",
        "    if files is None:\n",
        "        files = {}\n",
        "\n",
        "    # Encode parameters\n",
        "    image = params.pop(\"image\", None)\n",
        "    mask = params.pop(\"mask\", None)\n",
        "    if image is not None and image != '':\n",
        "        files[\"image\"] = open(image, 'rb')\n",
        "    if mask is not None and mask != '':\n",
        "        files[\"mask\"] = open(mask, 'rb')\n",
        "    if len(files)==0:\n",
        "        files[\"none\"] = ''\n",
        "\n",
        "    # Send request\n",
        "    print(f\"Sending REST request to {host}...\")\n",
        "    response = requests.post(\n",
        "        host,\n",
        "        headers=headers,\n",
        "        files=files,\n",
        "        data=params\n",
        "    )\n",
        "    if not response.ok:\n",
        "        raise Exception(f\"HTTP {response.status_code}: {response.text}\")\n",
        "\n",
        "    # Process async response\n",
        "    response_dict = json.loads(response.text)\n",
        "    generation_id = response_dict.get(\"id\", None)\n",
        "    assert generation_id is not None, \"Expected id in response\"\n",
        "\n",
        "    # Loop until result or timeout\n",
        "    timeout = int(os.getenv(\"WORKER_TIMEOUT\", 500))\n",
        "    start = time.time()\n",
        "    status_code = 202\n",
        "    while status_code == 202:\n",
        "        print(f\"Polling results at https://api.stability.ai/v2beta/results/{generation_id}\")\n",
        "        response = requests.get(\n",
        "            f\"https://api.stability.ai/v2beta/results/{generation_id}\",\n",
        "            headers={\n",
        "                **headers,\n",
        "                \"Accept\": \"*/*\"\n",
        "            },\n",
        "        )\n",
        "\n",
        "        if not response.ok:\n",
        "            raise Exception(f\"HTTP {response.status_code}: {response.text}\")\n",
        "        status_code = response.status_code\n",
        "        time.sleep(10)\n",
        "        if time.time() - start > timeout:\n",
        "            raise Exception(f\"Timeout after {timeout} seconds\")\n",
        "\n",
        "    return response"
      ],
      "metadata": {
        "id": "jJcMeArSfU1Q"
      },
      "execution_count": 12,
      "outputs": []
    },
    {
      "cell_type": "code",
      "source": [
        "#@title Stable Image Ultra\n",
        "\n",
        "prompt = \"Enter ur Prompt text plz to generate image\" #@param {type:\"string\"}\n",
        "negative_prompt = \"\" #@param {type:\"string\"}\n",
        "aspect_ratio = \"3:2\" #@param [\"21:9\", \"16:9\", \"3:2\", \"5:4\", \"1:1\", \"4:5\", \"2:3\", \"9:16\", \"9:21\"]\n",
        "seed = 0 #@param {type:\"integer\"}\n",
        "output_format = \"jpeg\" #@param [\"webp\", \"jpeg\", \"png\"]\n",
        "\n",
        "host = f\"https://api.stability.ai/v2beta/stable-image/generate/ultra\"\n",
        "\n",
        "params = {\n",
        "    \"prompt\" : prompt,\n",
        "    \"negative_prompt\" : negative_prompt,\n",
        "    \"aspect_ratio\" : aspect_ratio,\n",
        "    \"seed\" : seed,\n",
        "    \"output_format\": output_format\n",
        "}\n",
        "\n",
        "response = send_generation_request(\n",
        "    host,\n",
        "    params\n",
        ")\n",
        "\n",
        "# Decode response\n",
        "output_image = response.content\n",
        "finish_reason = response.headers.get(\"finish-reason\")\n",
        "seed = response.headers.get(\"seed\")\n",
        "\n",
        "# Check for NSFW classification\n",
        "if finish_reason == 'CONTENT_FILTERED':\n",
        "    raise Warning(\"Generation failed NSFW classifier\")\n",
        "\n",
        "# Save and display result\n",
        "generated = f\"generated_{seed}.{output_format}\"\n",
        "with open(generated, \"wb\") as f:\n",
        "    f.write(output_image)\n",
        "print(f\"Saved image {generated}\")\n",
        "\n",
        "output.no_vertical_scroll()\n",
        "print(\"Result image:\")\n",
        "IPython.display.display(Image.open(generated))\n"
      ],
      "metadata": {
        "colab": {
          "base_uri": "https://localhost:8080/",
          "height": 384
        },
        "id": "TcyRNMkDf6XG",
        "outputId": "3762a32b-30f7-4037-cb52-8c972c6ab991"
      },
      "execution_count": 13,
      "outputs": [
        {
          "output_type": "stream",
          "name": "stdout",
          "text": [
            "Sending REST request to https://api.stability.ai/v2beta/stable-image/generate/ultra...\n"
          ]
        },
        {
          "output_type": "error",
          "ename": "Exception",
          "evalue": "HTTP Exception 402: {\"errors\":[\"You lack sufficient credits to make this request.  Please purchase more credits at https://platform.stability.ai/account/credits and try again.\"],\"id\":\"96b2b8f7cf5cdd0f4ecb3ce9112d414d\",\"name\":\"payment_required\"}",
          "traceback": [
            "\u001b[0;31m---------------------------------------------------------------------------\u001b[0m",
            "\u001b[0;31mException\u001b[0m                                 Traceback (most recent call last)",
            "\u001b[0;32m<ipython-input-13-c71d8d2b7c27>\u001b[0m in \u001b[0;36m<cell line: 0>\u001b[0;34m()\u001b[0m\n\u001b[1;32m     17\u001b[0m }\n\u001b[1;32m     18\u001b[0m \u001b[0;34m\u001b[0m\u001b[0m\n\u001b[0;32m---> 19\u001b[0;31m response = send_generation_request(\n\u001b[0m\u001b[1;32m     20\u001b[0m     \u001b[0mhost\u001b[0m\u001b[0;34m,\u001b[0m\u001b[0;34m\u001b[0m\u001b[0;34m\u001b[0m\u001b[0m\n\u001b[1;32m     21\u001b[0m     \u001b[0mparams\u001b[0m\u001b[0;34m\u001b[0m\u001b[0;34m\u001b[0m\u001b[0m\n",
            "\u001b[0;32m<ipython-input-12-7cb727101387>\u001b[0m in \u001b[0;36msend_generation_request\u001b[0;34m(host, params, files)\u001b[0m\n\u001b[1;32m     33\u001b[0m     )\n\u001b[1;32m     34\u001b[0m     \u001b[0;32mif\u001b[0m \u001b[0;32mnot\u001b[0m \u001b[0mresponse\u001b[0m\u001b[0;34m.\u001b[0m\u001b[0mok\u001b[0m\u001b[0;34m:\u001b[0m\u001b[0;34m\u001b[0m\u001b[0;34m\u001b[0m\u001b[0m\n\u001b[0;32m---> 35\u001b[0;31m         \u001b[0;32mraise\u001b[0m \u001b[0mException\u001b[0m\u001b[0;34m(\u001b[0m\u001b[0;34mf\"HTTP Exception {response.status_code}: {response.text}\"\u001b[0m\u001b[0;34m)\u001b[0m\u001b[0;34m\u001b[0m\u001b[0;34m\u001b[0m\u001b[0m\n\u001b[0m\u001b[1;32m     36\u001b[0m \u001b[0;34m\u001b[0m\u001b[0m\n\u001b[1;32m     37\u001b[0m     \u001b[0;32mreturn\u001b[0m \u001b[0mresponse\u001b[0m\u001b[0;34m\u001b[0m\u001b[0;34m\u001b[0m\u001b[0m\n",
            "\u001b[0;31mException\u001b[0m: HTTP Exception 402: {\"errors\":[\"You lack sufficient credits to make this request.  Please purchase more credits at https://platform.stability.ai/account/credits and try again.\"],\"id\":\"96b2b8f7cf5cdd0f4ecb3ce9112d414d\",\"name\":\"payment_required\"}"
          ]
        }
      ]
    },
    {
      "cell_type": "code",
      "source": [],
      "metadata": {
        "id": "6mY_2oZ6irD9"
      },
      "execution_count": null,
      "outputs": []
    }
  ]
}