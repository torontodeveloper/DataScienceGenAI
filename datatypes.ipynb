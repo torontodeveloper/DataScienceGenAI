{
 "cells": [
  {
   "cell_type": "code",
   "execution_count": 29,
   "id": "1e5b0fbf",
   "metadata": {},
   "outputs": [],
   "source": [
    "import pandas as pd"
   ]
  },
  {
   "cell_type": "code",
   "execution_count": 2,
   "id": "340fa0af",
   "metadata": {},
   "outputs": [
    {
     "data": {
      "text/plain": [
       "13"
      ]
     },
     "execution_count": 2,
     "metadata": {},
     "output_type": "execute_result"
    }
   ],
   "source": [
    "10+3"
   ]
  },
  {
   "cell_type": "code",
   "execution_count": 3,
   "id": "6ee3d915",
   "metadata": {},
   "outputs": [
    {
     "data": {
      "text/plain": [
       "15"
      ]
     },
     "execution_count": 3,
     "metadata": {},
     "output_type": "execute_result"
    }
   ],
   "source": [
    "3*5"
   ]
  },
  {
   "cell_type": "code",
   "execution_count": 5,
   "id": "7564531c",
   "metadata": {},
   "outputs": [
    {
     "data": {
      "text/plain": [
       "45"
      ]
     },
     "execution_count": 5,
     "metadata": {},
     "output_type": "execute_result"
    }
   ],
   "source": [
    "(10+5)*3"
   ]
  },
  {
   "cell_type": "code",
   "execution_count": 6,
   "id": "dffc137d",
   "metadata": {},
   "outputs": [
    {
     "data": {
      "text/plain": [
       "25"
      ]
     },
     "execution_count": 6,
     "metadata": {},
     "output_type": "execute_result"
    }
   ],
   "source": [
    "10+5*3"
   ]
  },
  {
   "cell_type": "code",
   "execution_count": 9,
   "id": "f464e2cb",
   "metadata": {},
   "outputs": [
    {
     "data": {
      "text/plain": [
       "2.0"
      ]
     },
     "execution_count": 9,
     "metadata": {},
     "output_type": "execute_result"
    }
   ],
   "source": [
    "10/5 # floor division"
   ]
  },
  {
   "cell_type": "code",
   "execution_count": 12,
   "id": "c86b19b7",
   "metadata": {},
   "outputs": [
    {
     "data": {
      "text/plain": [
       "2"
      ]
     },
     "execution_count": 12,
     "metadata": {},
     "output_type": "execute_result"
    }
   ],
   "source": [
    "10//5 #int division"
   ]
  },
  {
   "cell_type": "code",
   "execution_count": 14,
   "id": "0b7a6132",
   "metadata": {},
   "outputs": [],
   "source": [
    "name = 'naresh it technlogy'"
   ]
  },
  {
   "cell_type": "code",
   "execution_count": 15,
   "id": "eb13dba5",
   "metadata": {},
   "outputs": [
    {
     "name": "stdout",
     "output_type": "stream",
     "text": [
      "naresh it technlogy <class 'str'>\n"
     ]
    }
   ],
   "source": [
    "print(name,type(name))"
   ]
  },
  {
   "cell_type": "code",
   "execution_count": 16,
   "id": "45705b08",
   "metadata": {},
   "outputs": [
    {
     "data": {
      "text/plain": [
       "'naresh it technology'"
      ]
     },
     "execution_count": 16,
     "metadata": {},
     "output_type": "execute_result"
    }
   ],
   "source": [
    "'naresh it technology'"
   ]
  },
  {
   "cell_type": "code",
   "execution_count": 17,
   "id": "3a0f1342",
   "metadata": {},
   "outputs": [
    {
     "data": {
      "text/plain": [
       "'naresh it technology'"
      ]
     },
     "execution_count": 17,
     "metadata": {},
     "output_type": "execute_result"
    }
   ],
   "source": [
    "\"naresh it technology\""
   ]
  },
  {
   "cell_type": "code",
   "execution_count": 20,
   "id": "07834c36",
   "metadata": {},
   "outputs": [
    {
     "data": {
      "text/plain": [
       "'naresh it technology'"
      ]
     },
     "execution_count": 20,
     "metadata": {},
     "output_type": "execute_result"
    }
   ],
   "source": [
    "\"\"\"naresh it technology\"\"\""
   ]
  },
  {
   "cell_type": "code",
   "execution_count": 21,
   "id": "c73869d9",
   "metadata": {},
   "outputs": [
    {
     "data": {
      "text/plain": [
       "'naresh it technology'"
      ]
     },
     "execution_count": 21,
     "metadata": {},
     "output_type": "execute_result"
    }
   ],
   "source": [
    "'''naresh it technology'''"
   ]
  },
  {
   "cell_type": "code",
   "execution_count": 24,
   "id": "9074daae",
   "metadata": {},
   "outputs": [
    {
     "data": {
      "text/plain": [
       "'Artificial intelligence (AI) is a set of technologies that enable computers\\nto perform a variety of advanced functions, including the ability to see, understand and translate spoken and written language, analyze data,\\nmake recommendations, and more'"
      ]
     },
     "execution_count": 24,
     "metadata": {},
     "output_type": "execute_result"
    }
   ],
   "source": [
    "\"\"\"Artificial intelligence (AI) is a set of technologies that enable computers\n",
    "to perform a variety of advanced functions, including the ability to see, understand and translate spoken and written language,\n",
    "analyze data,make recommendations, and more\"\"\""
   ]
  },
  {
   "cell_type": "code",
   "execution_count": 25,
   "id": "fb233226",
   "metadata": {},
   "outputs": [],
   "source": [
    "s='naresh it technology'"
   ]
  },
  {
   "cell_type": "code",
   "execution_count": 26,
   "id": "d1af2970",
   "metadata": {},
   "outputs": [
    {
     "data": {
      "text/plain": [
       "'naresh it technology'"
      ]
     },
     "execution_count": 26,
     "metadata": {},
     "output_type": "execute_result"
    }
   ],
   "source": [
    "s"
   ]
  },
  {
   "cell_type": "code",
   "execution_count": 27,
   "id": "9eb50df0",
   "metadata": {},
   "outputs": [
    {
     "name": "stdout",
     "output_type": "stream",
     "text": [
      "naresh it technology <class 'str'>\n"
     ]
    }
   ],
   "source": [
    "print(s,type(s))"
   ]
  },
  {
   "cell_type": "code",
   "execution_count": 30,
   "id": "9785ce74",
   "metadata": {},
   "outputs": [],
   "source": [
    "df = pd.DataFrame([[1, 2], [4, 5], [7, 8]],\n",
    "                  index=['cobra', 'viper', 'sidewinder'],\n",
    "                  columns=['max_speed', 'shield'])"
   ]
  },
  {
   "cell_type": "code",
   "execution_count": 33,
   "id": "516f248a",
   "metadata": {},
   "outputs": [
    {
     "data": {
      "text/html": [
       "<div>\n",
       "<style scoped>\n",
       "    .dataframe tbody tr th:only-of-type {\n",
       "        vertical-align: middle;\n",
       "    }\n",
       "\n",
       "    .dataframe tbody tr th {\n",
       "        vertical-align: top;\n",
       "    }\n",
       "\n",
       "    .dataframe thead th {\n",
       "        text-align: right;\n",
       "    }\n",
       "</style>\n",
       "<table border=\"1\" class=\"dataframe\">\n",
       "  <thead>\n",
       "    <tr style=\"text-align: right;\">\n",
       "      <th></th>\n",
       "      <th>max_speed</th>\n",
       "      <th>shield</th>\n",
       "    </tr>\n",
       "  </thead>\n",
       "  <tbody>\n",
       "    <tr>\n",
       "      <th>cobra</th>\n",
       "      <td>1</td>\n",
       "      <td>2</td>\n",
       "    </tr>\n",
       "    <tr>\n",
       "      <th>viper</th>\n",
       "      <td>4</td>\n",
       "      <td>5</td>\n",
       "    </tr>\n",
       "    <tr>\n",
       "      <th>sidewinder</th>\n",
       "      <td>7</td>\n",
       "      <td>8</td>\n",
       "    </tr>\n",
       "  </tbody>\n",
       "</table>\n",
       "</div>"
      ],
      "text/plain": [
       "            max_speed  shield\n",
       "cobra               1       2\n",
       "viper               4       5\n",
       "sidewinder          7       8"
      ]
     },
     "execution_count": 33,
     "metadata": {},
     "output_type": "execute_result"
    }
   ],
   "source": [
    "df"
   ]
  },
  {
   "cell_type": "code",
   "execution_count": 38,
   "id": "c320b282",
   "metadata": {},
   "outputs": [
    {
     "data": {
      "text/plain": [
       "max_speed    1\n",
       "shield       2\n",
       "Name: cobra, dtype: int64"
      ]
     },
     "execution_count": 38,
     "metadata": {},
     "output_type": "execute_result"
    }
   ],
   "source": [
    "df.loc['cobra']"
   ]
  },
  {
   "cell_type": "code",
   "execution_count": 40,
   "id": "7c3bd310",
   "metadata": {},
   "outputs": [
    {
     "data": {
      "text/plain": [
       "max_speed    1\n",
       "shield       2\n",
       "Name: cobra, dtype: int64"
      ]
     },
     "execution_count": 40,
     "metadata": {},
     "output_type": "execute_result"
    }
   ],
   "source": [
    "df.iloc[0]"
   ]
  },
  {
   "cell_type": "code",
   "execution_count": 41,
   "id": "63f6802b",
   "metadata": {},
   "outputs": [],
   "source": [
    "import sys"
   ]
  },
  {
   "cell_type": "code",
   "execution_count": 43,
   "id": "a63a7860",
   "metadata": {},
   "outputs": [
    {
     "name": "stdout",
     "output_type": "stream",
     "text": [
      "3.11.4 | packaged by Anaconda, Inc. | (main, Jul  5 2023, 13:38:37) [MSC v.1916 64 bit (AMD64)]\n"
     ]
    }
   ],
   "source": [
    "print(sys.version)"
   ]
  },
  {
   "cell_type": "code",
   "execution_count": 44,
   "id": "bad1eeeb",
   "metadata": {},
   "outputs": [],
   "source": [
    "import keyword as kw"
   ]
  },
  {
   "cell_type": "code",
   "execution_count": 46,
   "id": "5ba9a8a0",
   "metadata": {},
   "outputs": [
    {
     "name": "stdout",
     "output_type": "stream",
     "text": [
      "35\n"
     ]
    }
   ],
   "source": [
    "print(len(kw.kwlist))"
   ]
  },
  {
   "cell_type": "code",
   "execution_count": 47,
   "id": "c2ca83e9",
   "metadata": {},
   "outputs": [
    {
     "name": "stdout",
     "output_type": "stream",
     "text": [
      "['False', 'None', 'True', 'and', 'as', 'assert', 'async', 'await', 'break', 'class', 'continue', 'def', 'del', 'elif', 'else', 'except', 'finally', 'for', 'from', 'global', 'if', 'import', 'in', 'is', 'lambda', 'nonlocal', 'not', 'or', 'pass', 'raise', 'return', 'try', 'while', 'with', 'yield']\n"
     ]
    }
   ],
   "source": [
    "print(kw.kwlist)"
   ]
  },
  {
   "cell_type": "code",
   "execution_count": 48,
   "id": "d70d73be",
   "metadata": {},
   "outputs": [
    {
     "name": "stdout",
     "output_type": "stream",
     "text": [
      "35\n"
     ]
    }
   ],
   "source": [
    "print(len(['False', 'None', 'True', 'and', 'as', 'assert', 'async', 'await', 'break', 'class', 'continue', 'def', 'del', 'elif', 'else', 'except', 'finally', 'for', 'from', 'global', 'if', 'import', 'in', 'is', 'lambda', 'nonlocal', 'not', 'or', 'pass', 'raise', 'return', 'try', 'while', 'with', 'yield']))"
   ]
  },
  {
   "cell_type": "markdown",
   "id": "61bf5679",
   "metadata": {},
   "source": [
    "# Variables"
   ]
  },
  {
   "cell_type": "code",
   "execution_count": 49,
   "id": "bdce8d30",
   "metadata": {},
   "outputs": [],
   "source": [
    "a = 5"
   ]
  },
  {
   "cell_type": "code",
   "execution_count": 50,
   "id": "e38fda5e",
   "metadata": {},
   "outputs": [
    {
     "name": "stdout",
     "output_type": "stream",
     "text": [
      "5 <class 'int'>\n"
     ]
    }
   ],
   "source": [
    "print(a,type(a))"
   ]
  },
  {
   "cell_type": "code",
   "execution_count": 51,
   "id": "62388270",
   "metadata": {},
   "outputs": [
    {
     "data": {
      "text/plain": [
       "int"
      ]
     },
     "execution_count": 51,
     "metadata": {},
     "output_type": "execute_result"
    }
   ],
   "source": [
    "type(a)"
   ]
  },
  {
   "cell_type": "code",
   "execution_count": 52,
   "id": "4fe93bb5",
   "metadata": {},
   "outputs": [
    {
     "data": {
      "text/plain": [
       "140722497557416"
      ]
     },
     "execution_count": 52,
     "metadata": {},
     "output_type": "execute_result"
    }
   ],
   "source": [
    "id(a)"
   ]
  },
  {
   "cell_type": "code",
   "execution_count": 53,
   "id": "0a8ec220",
   "metadata": {},
   "outputs": [],
   "source": [
    "b=5.5"
   ]
  },
  {
   "cell_type": "code",
   "execution_count": 54,
   "id": "b1c8e7df",
   "metadata": {},
   "outputs": [
    {
     "name": "stdout",
     "output_type": "stream",
     "text": [
      "5.5 <class 'float'> 2058212002800\n"
     ]
    }
   ],
   "source": [
    "print(b,type(b),id(b))"
   ]
  },
  {
   "cell_type": "code",
   "execution_count": 58,
   "id": "e37022eb",
   "metadata": {},
   "outputs": [],
   "source": [
    "def family(mom,dad,son,daugter):\n",
    "    pass"
   ]
  },
  {
   "cell_type": "code",
   "execution_count": 59,
   "id": "c3debaf2",
   "metadata": {},
   "outputs": [],
   "source": [
    "def family1():\n",
    "    pass"
   ]
  },
  {
   "cell_type": "code",
   "execution_count": 60,
   "id": "e0adef3e",
   "metadata": {},
   "outputs": [],
   "source": [
    "age = 25"
   ]
  },
  {
   "cell_type": "code",
   "execution_count": 61,
   "id": "91f1d833",
   "metadata": {},
   "outputs": [
    {
     "name": "stdout",
     "output_type": "stream",
     "text": [
      "25\n"
     ]
    }
   ],
   "source": [
    "print(age)"
   ]
  },
  {
   "cell_type": "code",
   "execution_count": 63,
   "id": "2956d645",
   "metadata": {},
   "outputs": [
    {
     "name": "stdout",
     "output_type": "stream",
     "text": [
      "Angelina\n"
     ]
    }
   ],
   "source": [
    "name='Angelina'\n",
    "print(name)"
   ]
  },
  {
   "cell_type": "code",
   "execution_count": 64,
   "id": "f93f3b2c",
   "metadata": {},
   "outputs": [],
   "source": [
    "price = 3.14"
   ]
  },
  {
   "cell_type": "code",
   "execution_count": 65,
   "id": "7543b79f",
   "metadata": {},
   "outputs": [
    {
     "name": "stdout",
     "output_type": "stream",
     "text": [
      "3.14 <class 'float'>\n"
     ]
    }
   ],
   "source": [
    "print(price,type(price))"
   ]
  },
  {
   "cell_type": "code",
   "execution_count": 66,
   "id": "dcfebe90",
   "metadata": {},
   "outputs": [],
   "source": [
    "a=5"
   ]
  },
  {
   "cell_type": "code",
   "execution_count": 67,
   "id": "5aa33113",
   "metadata": {},
   "outputs": [
    {
     "name": "stdout",
     "output_type": "stream",
     "text": [
      "5 <class 'int'>\n"
     ]
    }
   ],
   "source": [
    "print(a,type(a))"
   ]
  },
  {
   "cell_type": "markdown",
   "id": "d680134c",
   "metadata": {},
   "source": [
    "# Rules to define variables"
   ]
  },
  {
   "cell_type": "code",
   "execution_count": 68,
   "id": "4dcfa2b1",
   "metadata": {},
   "outputs": [],
   "source": [
    "v = 23"
   ]
  },
  {
   "cell_type": "code",
   "execution_count": 69,
   "id": "947648af",
   "metadata": {},
   "outputs": [
    {
     "ename": "SyntaxError",
     "evalue": "invalid decimal literal (3918032692.py, line 1)",
     "output_type": "error",
     "traceback": [
      "\u001b[1;36m  Cell \u001b[1;32mIn[69], line 1\u001b[1;36m\u001b[0m\n\u001b[1;33m    1v = 25\u001b[0m\n\u001b[1;37m    ^\u001b[0m\n\u001b[1;31mSyntaxError\u001b[0m\u001b[1;31m:\u001b[0m invalid decimal literal\n"
     ]
    }
   ],
   "source": [
    "1v = 25"
   ]
  },
  {
   "cell_type": "code",
   "execution_count": 70,
   "id": "2a94c165",
   "metadata": {},
   "outputs": [
    {
     "ename": "SyntaxError",
     "evalue": "invalid syntax (52111647.py, line 1)",
     "output_type": "error",
     "traceback": [
      "\u001b[1;36m  Cell \u001b[1;32mIn[70], line 1\u001b[1;36m\u001b[0m\n\u001b[1;33m    def = 88\u001b[0m\n\u001b[1;37m        ^\u001b[0m\n\u001b[1;31mSyntaxError\u001b[0m\u001b[1;31m:\u001b[0m invalid syntax\n"
     ]
    }
   ],
   "source": [
    "def = 88"
   ]
  },
  {
   "cell_type": "code",
   "execution_count": 71,
   "id": "3c239e24",
   "metadata": {},
   "outputs": [
    {
     "name": "stdout",
     "output_type": "stream",
     "text": [
      "['False', 'None', 'True', 'and', 'as', 'assert', 'async', 'await', 'break', 'class', 'continue', 'def', 'del', 'elif', 'else', 'except', 'finally', 'for', 'from', 'global', 'if', 'import', 'in', 'is', 'lambda', 'nonlocal', 'not', 'or', 'pass', 'raise', 'return', 'try', 'while', 'with', 'yield']\n"
     ]
    }
   ],
   "source": [
    "import keyword as kw\n",
    "print(kw.kwlist)"
   ]
  },
  {
   "cell_type": "code",
   "execution_count": 72,
   "id": "98112633",
   "metadata": {},
   "outputs": [
    {
     "data": {
      "text/plain": [
       "35"
      ]
     },
     "execution_count": 72,
     "metadata": {},
     "output_type": "execute_result"
    }
   ],
   "source": [
    "len(kw.kwlist)"
   ]
  },
  {
   "cell_type": "code",
   "execution_count": 73,
   "id": "b4747dee",
   "metadata": {},
   "outputs": [
    {
     "ename": "NameError",
     "evalue": "name 'nit' is not defined",
     "output_type": "error",
     "traceback": [
      "\u001b[1;31m---------------------------------------------------------------------------\u001b[0m",
      "\u001b[1;31mNameError\u001b[0m                                 Traceback (most recent call last)",
      "Cell \u001b[1;32mIn[73], line 2\u001b[0m\n\u001b[0;32m      1\u001b[0m NIT\u001b[38;5;241m=\u001b[39m\u001b[38;5;241m33\u001b[39m\n\u001b[1;32m----> 2\u001b[0m nit\n",
      "\u001b[1;31mNameError\u001b[0m: name 'nit' is not defined"
     ]
    }
   ],
   "source": [
    "NIT=33\n",
    "nit"
   ]
  },
  {
   "cell_type": "code",
   "execution_count": 74,
   "id": "5cae3854",
   "metadata": {},
   "outputs": [
    {
     "data": {
      "text/plain": [
       "33"
      ]
     },
     "execution_count": 74,
     "metadata": {},
     "output_type": "execute_result"
    }
   ],
   "source": [
    "NIT"
   ]
  },
  {
   "cell_type": "code",
   "execution_count": 75,
   "id": "a7e374a7",
   "metadata": {},
   "outputs": [
    {
     "ename": "SyntaxError",
     "evalue": "invalid syntax (1673245766.py, line 1)",
     "output_type": "error",
     "traceback": [
      "\u001b[1;36m  Cell \u001b[1;32mIn[75], line 1\u001b[1;36m\u001b[0m\n\u001b[1;33m    hello$ = 494\u001b[0m\n\u001b[1;37m         ^\u001b[0m\n\u001b[1;31mSyntaxError\u001b[0m\u001b[1;31m:\u001b[0m invalid syntax\n"
     ]
    }
   ],
   "source": [
    "hello$ = 494"
   ]
  },
  {
   "cell_type": "code",
   "execution_count": 76,
   "id": "1e837f42",
   "metadata": {},
   "outputs": [],
   "source": [
    "hello_=39"
   ]
  },
  {
   "cell_type": "code",
   "execution_count": 78,
   "id": "39e93787",
   "metadata": {},
   "outputs": [
    {
     "name": "stdout",
     "output_type": "stream",
     "text": [
      "39\n"
     ]
    }
   ],
   "source": [
    "print(hello_)"
   ]
  },
  {
   "cell_type": "code",
   "execution_count": 79,
   "id": "1ad6ae77",
   "metadata": {},
   "outputs": [],
   "source": [
    "_hello='angelina'"
   ]
  },
  {
   "cell_type": "code",
   "execution_count": 80,
   "id": "fdab8363",
   "metadata": {},
   "outputs": [
    {
     "name": "stdout",
     "output_type": "stream",
     "text": [
      "angelina\n"
     ]
    }
   ],
   "source": [
    "print(_hello)"
   ]
  },
  {
   "cell_type": "code",
   "execution_count": 81,
   "id": "54833d6d",
   "metadata": {},
   "outputs": [
    {
     "ename": "SyntaxError",
     "evalue": "invalid syntax (3035139918.py, line 1)",
     "output_type": "error",
     "traceback": [
      "\u001b[1;36m  Cell \u001b[1;32mIn[81], line 1\u001b[1;36m\u001b[0m\n\u001b[1;33m    first name = 'angelina'\u001b[0m\n\u001b[1;37m          ^\u001b[0m\n\u001b[1;31mSyntaxError\u001b[0m\u001b[1;31m:\u001b[0m invalid syntax\n"
     ]
    }
   ],
   "source": [
    "first name = 'angelina'"
   ]
  },
  {
   "cell_type": "code",
   "execution_count": 82,
   "id": "e062a6ce",
   "metadata": {},
   "outputs": [],
   "source": [
    "first = 'angelina'"
   ]
  },
  {
   "cell_type": "code",
   "execution_count": 83,
   "id": "822bb087",
   "metadata": {},
   "outputs": [],
   "source": [
    " first = 'salma'"
   ]
  },
  {
   "cell_type": "code",
   "execution_count": 84,
   "id": "d7c7aff6",
   "metadata": {},
   "outputs": [
    {
     "data": {
      "text/plain": [
       "'salma'"
      ]
     },
     "execution_count": 84,
     "metadata": {},
     "output_type": "execute_result"
    }
   ],
   "source": [
    "first"
   ]
  },
  {
   "cell_type": "code",
   "execution_count": 85,
   "id": "65a6f993",
   "metadata": {},
   "outputs": [],
   "source": [
    "aaaaaaaaaaaaaaaaaaaaaaaaaaaaaaaa = 99"
   ]
  },
  {
   "cell_type": "code",
   "execution_count": 86,
   "id": "372bb6da",
   "metadata": {},
   "outputs": [
    {
     "ename": "NameError",
     "evalue": "name 'aaaaaaaaaaaaaa' is not defined",
     "output_type": "error",
     "traceback": [
      "\u001b[1;31m---------------------------------------------------------------------------\u001b[0m",
      "\u001b[1;31mNameError\u001b[0m                                 Traceback (most recent call last)",
      "Cell \u001b[1;32mIn[86], line 1\u001b[0m\n\u001b[1;32m----> 1\u001b[0m aaaaaaaaaaaaaa\n",
      "\u001b[1;31mNameError\u001b[0m: name 'aaaaaaaaaaaaaa' is not defined"
     ]
    }
   ],
   "source": [
    "aaaaaaaaaaaaaa"
   ]
  },
  {
   "cell_type": "code",
   "execution_count": 88,
   "id": "b3932993",
   "metadata": {},
   "outputs": [
    {
     "name": "stdout",
     "output_type": "stream",
     "text": [
      "99\n"
     ]
    }
   ],
   "source": [
    "print(aaaaaaaaaaaaaaaaaaaaaaaaaaaaaaaa)"
   ]
  },
  {
   "cell_type": "markdown",
   "id": "c85e32d5",
   "metadata": {},
   "source": [
    "# int data type"
   ]
  },
  {
   "cell_type": "code",
   "execution_count": 89,
   "id": "7ea0e5ac",
   "metadata": {},
   "outputs": [],
   "source": [
    "a = 10"
   ]
  },
  {
   "cell_type": "code",
   "execution_count": 40,
   "id": "5d75ff9b",
   "metadata": {},
   "outputs": [
    {
     "name": "stdout",
     "output_type": "stream",
     "text": [
      "32 <class 'int'>\n"
     ]
    }
   ],
   "source": [
    "print(a,type(a))"
   ]
  },
  {
   "cell_type": "code",
   "execution_count": 90,
   "id": "bb32e28a",
   "metadata": {},
   "outputs": [],
   "source": [
    "a = 45"
   ]
  },
  {
   "cell_type": "code",
   "execution_count": 41,
   "id": "7c8145a0",
   "metadata": {},
   "outputs": [
    {
     "name": "stdout",
     "output_type": "stream",
     "text": [
      "32 <class 'int'>\n"
     ]
    }
   ],
   "source": [
    "print(a,type(a))"
   ]
  },
  {
   "cell_type": "code",
   "execution_count": 93,
   "id": "603cb530",
   "metadata": {},
   "outputs": [],
   "source": [
    "a,b,c = 30,40,50"
   ]
  },
  {
   "cell_type": "code",
   "execution_count": 94,
   "id": "4990b0e3",
   "metadata": {},
   "outputs": [
    {
     "name": "stdout",
     "output_type": "stream",
     "text": [
      "30 40 50\n"
     ]
    }
   ],
   "source": [
    "print(a,b,c)"
   ]
  },
  {
   "cell_type": "code",
   "execution_count": 95,
   "id": "5d081de0",
   "metadata": {},
   "outputs": [
    {
     "name": "stdout",
     "output_type": "stream",
     "text": [
      "30\n",
      "40\n",
      "50\n"
     ]
    }
   ],
   "source": [
    "print(a)\n",
    "print(b)\n",
    "print(c)"
   ]
  },
  {
   "cell_type": "code",
   "execution_count": 96,
   "id": "bd997b79",
   "metadata": {},
   "outputs": [
    {
     "ename": "SyntaxError",
     "evalue": "cannot assign to literal here. Maybe you meant '==' instead of '='? (2060733634.py, line 1)",
     "output_type": "error",
     "traceback": [
      "\u001b[1;36m  Cell \u001b[1;32mIn[96], line 1\u001b[1;36m\u001b[0m\n\u001b[1;33m    2=a\u001b[0m\n\u001b[1;37m    ^\u001b[0m\n\u001b[1;31mSyntaxError\u001b[0m\u001b[1;31m:\u001b[0m cannot assign to literal here. Maybe you meant '==' instead of '='?\n"
     ]
    }
   ],
   "source": [
    "2=a"
   ]
  },
  {
   "cell_type": "code",
   "execution_count": 1,
   "id": "ac341dd6",
   "metadata": {},
   "outputs": [
    {
     "name": "stdout",
     "output_type": "stream",
     "text": [
      "3.11.4 | packaged by Anaconda, Inc. | (main, Jul  5 2023, 13:38:37) [MSC v.1916 64 bit (AMD64)]\n"
     ]
    }
   ],
   "source": [
    "import sys\n",
    "print(sys.version)"
   ]
  },
  {
   "cell_type": "code",
   "execution_count": 1,
   "id": "d96c3ac8",
   "metadata": {},
   "outputs": [
    {
     "name": "stdout",
     "output_type": "stream",
     "text": [
      "['False', 'None', 'True', 'and', 'as', 'assert', 'async', 'await', 'break', 'class', 'continue', 'def', 'del', 'elif', 'else', 'except', 'finally', 'for', 'from', 'global', 'if', 'import', 'in', 'is', 'lambda', 'nonlocal', 'not', 'or', 'pass', 'raise', 'return', 'try', 'while', 'with', 'yield']\n"
     ]
    }
   ],
   "source": [
    "import keyword as kw \n",
    "print(kw.kwlist)"
   ]
  },
  {
   "cell_type": "code",
   "execution_count": 2,
   "id": "44fc42ea",
   "metadata": {},
   "outputs": [
    {
     "data": {
      "text/plain": [
       "35"
      ]
     },
     "execution_count": 2,
     "metadata": {},
     "output_type": "execute_result"
    }
   ],
   "source": [
    "len(kw.kwlist)"
   ]
  },
  {
   "cell_type": "markdown",
   "id": "da233e79",
   "metadata": {},
   "source": [
    "# Variables"
   ]
  },
  {
   "cell_type": "code",
   "execution_count": 3,
   "id": "5e213a2b",
   "metadata": {},
   "outputs": [
    {
     "name": "stdout",
     "output_type": "stream",
     "text": [
      "Angelina\n"
     ]
    }
   ],
   "source": [
    "name = 'Angelina'\n",
    "print(name)"
   ]
  },
  {
   "cell_type": "code",
   "execution_count": 4,
   "id": "b03f62b1",
   "metadata": {},
   "outputs": [],
   "source": [
    "a=5"
   ]
  },
  {
   "cell_type": "code",
   "execution_count": 5,
   "id": "8a6c6645",
   "metadata": {},
   "outputs": [
    {
     "name": "stdout",
     "output_type": "stream",
     "text": [
      "5\n"
     ]
    }
   ],
   "source": [
    "print(a)"
   ]
  },
  {
   "cell_type": "code",
   "execution_count": 6,
   "id": "6b1ccabc",
   "metadata": {},
   "outputs": [
    {
     "name": "stdout",
     "output_type": "stream",
     "text": [
      " Age is 25\n"
     ]
    }
   ],
   "source": [
    "age = 25\n",
    "print(f' Age is {age}')"
   ]
  },
  {
   "cell_type": "code",
   "execution_count": 7,
   "id": "636d0eb9",
   "metadata": {},
   "outputs": [
    {
     "name": "stdout",
     "output_type": "stream",
     "text": [
      "My favourite actress is Angelina\n"
     ]
    }
   ],
   "source": [
    "name = 'Angelina'\n",
    "print(f'My favourite actress is {name}')"
   ]
  },
  {
   "cell_type": "code",
   "execution_count": 8,
   "id": "7d63f820",
   "metadata": {},
   "outputs": [
    {
     "name": "stdout",
     "output_type": "stream",
     "text": [
      "My driving license status True\n"
     ]
    }
   ],
   "source": [
    "is_active = True\n",
    "print(f'My driving license status {is_active}')"
   ]
  },
  {
   "cell_type": "code",
   "execution_count": 9,
   "id": "9c0f7e62",
   "metadata": {},
   "outputs": [
    {
     "name": "stdout",
     "output_type": "stream",
     "text": [
      "x is 10\n"
     ]
    }
   ],
   "source": [
    "x = 10\n",
    "print(f'x is {x}')"
   ]
  },
  {
   "cell_type": "code",
   "execution_count": 10,
   "id": "e510b126",
   "metadata": {},
   "outputs": [
    {
     "name": "stdout",
     "output_type": "stream",
     "text": [
      "Multiplication of 5 and 4 is 20\n"
     ]
    }
   ],
   "source": [
    "a = 5\n",
    "b  = 4\n",
    "result = a *b\n",
    "print(f'Multiplication of {a} and {b} is {result}')"
   ]
  },
  {
   "cell_type": "code",
   "execution_count": 11,
   "id": "ac084f46",
   "metadata": {},
   "outputs": [
    {
     "name": "stdout",
     "output_type": "stream",
     "text": [
      "My initial runs is 240\n",
      "My latest runs score is 320\n"
     ]
    }
   ],
   "source": [
    "initial_runs = 240\n",
    "print(f'My initial runs is {initial_runs}')\n",
    "initial_runs = 320\n",
    "print(f'My latest runs score is {initial_runs}')"
   ]
  },
  {
   "cell_type": "code",
   "execution_count": 13,
   "id": "781775e1",
   "metadata": {},
   "outputs": [
    {
     "name": "stdout",
     "output_type": "stream",
     "text": [
      "Full name is Samantha Prabhu\n"
     ]
    }
   ],
   "source": [
    "first_name = 'Samantha'\n",
    "last_name = 'Prabhu'\n",
    "\n",
    "full_name = first_name+\" \"+ last_name\n",
    "print(f'Full name is {full_name}')"
   ]
  },
  {
   "cell_type": "code",
   "execution_count": 14,
   "id": "d3203683",
   "metadata": {},
   "outputs": [
    {
     "name": "stdout",
     "output_type": "stream",
     "text": [
      "Area of rectangle of length 10 and width 7 is 70\n"
     ]
    }
   ],
   "source": [
    "length = 10\n",
    "width = 7\n",
    "area = length*width\n",
    "print(f'Area of rectangle of length {length} and width {width} is {area}')"
   ]
  },
  {
   "cell_type": "code",
   "execution_count": 24,
   "id": "225b2b57",
   "metadata": {},
   "outputs": [
    {
     "name": "stdout",
     "output_type": "stream",
     "text": [
      "10\n"
     ]
    }
   ],
   "source": [
    "x=10\n",
    "print(x)"
   ]
  },
  {
   "cell_type": "code",
   "execution_count": 25,
   "id": "3eb0a3c1",
   "metadata": {},
   "outputs": [
    {
     "name": "stdout",
     "output_type": "stream",
     "text": [
      "New value is 20\n"
     ]
    }
   ],
   "source": [
    "x=20\n",
    "print(f'New value is {x}')"
   ]
  },
  {
   "cell_type": "code",
   "execution_count": 26,
   "id": "2b722a62",
   "metadata": {},
   "outputs": [
    {
     "name": "stdout",
     "output_type": "stream",
     "text": [
      "List of movies is ['Mentalist', 'Bosch', 'Monk', 'Pushpa']\n"
     ]
    }
   ],
   "source": [
    "movies = ['Mentalist','Bosch','Monk','Pushpa']\n",
    "print(f'List of movies is {movies}')"
   ]
  },
  {
   "cell_type": "code",
   "execution_count": 27,
   "id": "331efff8",
   "metadata": {},
   "outputs": [],
   "source": [
    "person = {\n",
    "    'name':'Angelina',\n",
    "    'age':36,\n",
    "    'actress':'acting'\n",
    "}"
   ]
  },
  {
   "cell_type": "code",
   "execution_count": 28,
   "id": "c15b360e",
   "metadata": {},
   "outputs": [
    {
     "name": "stdout",
     "output_type": "stream",
     "text": [
      "my person details is {'name': 'Angelina', 'age': 36, 'actress': 'acting'}\n"
     ]
    }
   ],
   "source": [
    "print(f'my person details is {person}')"
   ]
  },
  {
   "cell_type": "code",
   "execution_count": 29,
   "id": "e58acea5",
   "metadata": {},
   "outputs": [],
   "source": [
    "class House:\n",
    "    def __init__(self,strt_address,city,price,sqft=2000):\n",
    "        self.strt_address = strt_address,\n",
    "        self.sqft = sqft\n",
    "        self.city = city\n",
    "        self.price = price\n",
    "    def display(self):\n",
    "        print(f'House details are \\n{self.strt_address}\\n {self.city} with {self.city}\\n at Price {self.price}')"
   ]
  },
  {
   "cell_type": "code",
   "execution_count": 30,
   "id": "ba706959",
   "metadata": {},
   "outputs": [],
   "source": [
    "house = House('86 Elcamino Real',city='San Francisco',price=786000)"
   ]
  },
  {
   "cell_type": "code",
   "execution_count": 31,
   "id": "11d4a727",
   "metadata": {},
   "outputs": [
    {
     "name": "stdout",
     "output_type": "stream",
     "text": [
      "House details are \n",
      "('86 Elcamino Real',)\n",
      " San Francisco with San Francisco\n",
      " at Price 786000\n"
     ]
    }
   ],
   "source": [
    "house.display()"
   ]
  },
  {
   "cell_type": "code",
   "execution_count": 32,
   "id": "4d8a5639",
   "metadata": {},
   "outputs": [
    {
     "name": "stdout",
     "output_type": "stream",
     "text": [
      "32 <class 'int'> 140723061783960\n"
     ]
    }
   ],
   "source": [
    "a = 32\n",
    "print(a,type(a),id(a))"
   ]
  },
  {
   "cell_type": "code",
   "execution_count": 33,
   "id": "9ca53b7b",
   "metadata": {},
   "outputs": [
    {
     "name": "stdout",
     "output_type": "stream",
     "text": [
      "5.5 <class 'float'> 2704834816496\n"
     ]
    }
   ],
   "source": [
    "b = 5.5\n",
    "print(b,type(b),id(b))"
   ]
  },
  {
   "cell_type": "code",
   "execution_count": 34,
   "id": "b9cab636",
   "metadata": {},
   "outputs": [
    {
     "data": {
      "text/plain": [
       "int"
      ]
     },
     "execution_count": 34,
     "metadata": {},
     "output_type": "execute_result"
    }
   ],
   "source": [
    "type(a)"
   ]
  },
  {
   "cell_type": "code",
   "execution_count": 38,
   "id": "582df9cb",
   "metadata": {},
   "outputs": [],
   "source": [
    "def family(mom,dad,son,daughter):\n",
    "    print(f'Mom is {mom}')\n",
    "    print(f'Dad is {dad}')\n",
    "    print(f'son is {son}')\n",
    "    print(f'daughter is {daughter}')\n",
    "          "
   ]
  },
  {
   "cell_type": "code",
   "execution_count": 39,
   "id": "7b446d78",
   "metadata": {},
   "outputs": [
    {
     "name": "stdout",
     "output_type": "stream",
     "text": [
      "Mom is kevin\n",
      "Dad is aruna\n",
      "son is abhi\n",
      "daughter is kiki\n"
     ]
    }
   ],
   "source": [
    "family('kevin','aruna','abhi','kiki')"
   ]
  },
  {
   "cell_type": "markdown",
   "id": "247ac4b9",
   "metadata": {},
   "source": [
    "#9th"
   ]
  },
  {
   "cell_type": "code",
   "execution_count": 42,
   "id": "c1bd4146",
   "metadata": {},
   "outputs": [
    {
     "name": "stderr",
     "output_type": "stream",
     "text": [
      "<>:1: SyntaxWarning: invalid decimal literal\n",
      "<>:1: SyntaxWarning: invalid decimal literal\n",
      "C:\\Users\\nages\\AppData\\Local\\Temp\\ipykernel_59908\\2589027437.py:1: SyntaxWarning: invalid decimal literal\n",
      "  1init = 100\n"
     ]
    },
    {
     "ename": "SyntaxError",
     "evalue": "invalid syntax (2589027437.py, line 1)",
     "output_type": "error",
     "traceback": [
      "\u001b[1;36m  Cell \u001b[1;32mIn[42], line 1\u001b[1;36m\u001b[0m\n\u001b[1;33m    1init = 100\u001b[0m\n\u001b[1;37m     ^\u001b[0m\n\u001b[1;31mSyntaxError\u001b[0m\u001b[1;31m:\u001b[0m invalid syntax\n"
     ]
    }
   ],
   "source": [
    "1init = 100"
   ]
  },
  {
   "cell_type": "code",
   "execution_count": 43,
   "id": "9bb0c559",
   "metadata": {},
   "outputs": [
    {
     "ename": "SyntaxError",
     "evalue": "invalid syntax (1304065820.py, line 1)",
     "output_type": "error",
     "traceback": [
      "\u001b[1;36m  Cell \u001b[1;32mIn[43], line 1\u001b[1;36m\u001b[0m\n\u001b[1;33m    a b = 8\u001b[0m\n\u001b[1;37m      ^\u001b[0m\n\u001b[1;31mSyntaxError\u001b[0m\u001b[1;31m:\u001b[0m invalid syntax\n"
     ]
    }
   ],
   "source": [
    "a b = 8"
   ]
  },
  {
   "cell_type": "code",
   "execution_count": 44,
   "id": "27496046",
   "metadata": {},
   "outputs": [
    {
     "name": "stdout",
     "output_type": "stream",
     "text": [
      "['False', 'None', 'True', 'and', 'as', 'assert', 'async', 'await', 'break', 'class', 'continue', 'def', 'del', 'elif', 'else', 'except', 'finally', 'for', 'from', 'global', 'if', 'import', 'in', 'is', 'lambda', 'nonlocal', 'not', 'or', 'pass', 'raise', 'return', 'try', 'while', 'with', 'yield']\n"
     ]
    }
   ],
   "source": [
    "import keyword as kw\n",
    "print(kw.kwlist)"
   ]
  },
  {
   "cell_type": "code",
   "execution_count": 45,
   "id": "e5e60b13",
   "metadata": {},
   "outputs": [],
   "source": [
    "IF =90"
   ]
  },
  {
   "cell_type": "code",
   "execution_count": null,
   "id": "88633ee0",
   "metadata": {},
   "outputs": [],
   "source": [
    "\n"
   ]
  },
  {
   "cell_type": "markdown",
   "id": "30181d72",
   "metadata": {},
   "source": [
    "# Primitive Data Type\n",
    ". int\n",
    ". float\n",
    ". bool\n",
    ". complex\n",
    ". str"
   ]
  },
  {
   "cell_type": "markdown",
   "id": "78bb188b",
   "metadata": {},
   "source": []
  },
  {
   "cell_type": "code",
   "execution_count": 46,
   "id": "c2b22b32",
   "metadata": {},
   "outputs": [],
   "source": [
    "i = 4"
   ]
  },
  {
   "cell_type": "code",
   "execution_count": 47,
   "id": "8175d083",
   "metadata": {},
   "outputs": [
    {
     "name": "stdout",
     "output_type": "stream",
     "text": [
      "4 <class 'int'>\n"
     ]
    }
   ],
   "source": [
    "print(i, type(i))"
   ]
  },
  {
   "cell_type": "code",
   "execution_count": 48,
   "id": "56ebb537",
   "metadata": {},
   "outputs": [],
   "source": [
    "petrol = 110.22"
   ]
  },
  {
   "cell_type": "code",
   "execution_count": 49,
   "id": "ee1c3a79",
   "metadata": {},
   "outputs": [
    {
     "name": "stdout",
     "output_type": "stream",
     "text": [
      "110.22 <class 'float'>\n"
     ]
    }
   ],
   "source": [
    "print(petrol,type(petrol))"
   ]
  },
  {
   "cell_type": "code",
   "execution_count": 51,
   "id": "4e02f969",
   "metadata": {},
   "outputs": [],
   "source": [
    "f1 = 3e0"
   ]
  },
  {
   "cell_type": "code",
   "execution_count": 52,
   "id": "9a2e5a58",
   "metadata": {},
   "outputs": [
    {
     "name": "stdout",
     "output_type": "stream",
     "text": [
      "3.0 <class 'float'>\n"
     ]
    }
   ],
   "source": [
    "f2  = 3e1\n",
    "print(f1,type(f2))"
   ]
  },
  {
   "cell_type": "code",
   "execution_count": 53,
   "id": "cb0ff580",
   "metadata": {},
   "outputs": [
    {
     "name": "stdout",
     "output_type": "stream",
     "text": [
      "300.0 <class 'float'>\n"
     ]
    }
   ],
   "source": [
    "age = 3e2\n",
    "print(age,type(age))"
   ]
  },
  {
   "cell_type": "code",
   "execution_count": 54,
   "id": "20bea215",
   "metadata": {},
   "outputs": [
    {
     "name": "stdout",
     "output_type": "stream",
     "text": [
      "3000.0 <class 'float'>\n"
     ]
    }
   ],
   "source": [
    "f3 = 3e3\n",
    "print(f3,type(f3))"
   ]
  },
  {
   "cell_type": "code",
   "execution_count": 55,
   "id": "de12f731",
   "metadata": {},
   "outputs": [],
   "source": [
    "f4 = 2.3e4"
   ]
  },
  {
   "cell_type": "code",
   "execution_count": 56,
   "id": "af9650af",
   "metadata": {},
   "outputs": [
    {
     "name": "stdout",
     "output_type": "stream",
     "text": [
      "23000.0 <class 'float'>\n"
     ]
    }
   ],
   "source": [
    "print(f4,type(f4))"
   ]
  },
  {
   "cell_type": "code",
   "execution_count": 57,
   "id": "eb4b8820",
   "metadata": {},
   "outputs": [
    {
     "ename": "NameError",
     "evalue": "name 'true' is not defined",
     "output_type": "error",
     "traceback": [
      "\u001b[1;31m---------------------------------------------------------------------------\u001b[0m",
      "\u001b[1;31mNameError\u001b[0m                                 Traceback (most recent call last)",
      "Cell \u001b[1;32mIn[57], line 1\u001b[0m\n\u001b[1;32m----> 1\u001b[0m \u001b[43mtrue\u001b[49m\n",
      "\u001b[1;31mNameError\u001b[0m: name 'true' is not defined"
     ]
    }
   ],
   "source": [
    "true"
   ]
  },
  {
   "cell_type": "markdown",
   "id": "4918f975",
   "metadata": {},
   "source": [
    "# Bool data type"
   ]
  },
  {
   "cell_type": "code",
   "execution_count": 58,
   "id": "df07e56c",
   "metadata": {},
   "outputs": [
    {
     "data": {
      "text/plain": [
       "True"
      ]
     },
     "execution_count": 58,
     "metadata": {},
     "output_type": "execute_result"
    }
   ],
   "source": [
    "True"
   ]
  },
  {
   "cell_type": "code",
   "execution_count": 59,
   "id": "9ea0e261",
   "metadata": {},
   "outputs": [
    {
     "data": {
      "text/plain": [
       "False"
      ]
     },
     "execution_count": 59,
     "metadata": {},
     "output_type": "execute_result"
    }
   ],
   "source": [
    "False"
   ]
  },
  {
   "cell_type": "code",
   "execution_count": 60,
   "id": "afd47457",
   "metadata": {},
   "outputs": [
    {
     "ename": "NameError",
     "evalue": "name 'false' is not defined",
     "output_type": "error",
     "traceback": [
      "\u001b[1;31m---------------------------------------------------------------------------\u001b[0m",
      "\u001b[1;31mNameError\u001b[0m                                 Traceback (most recent call last)",
      "Cell \u001b[1;32mIn[60], line 1\u001b[0m\n\u001b[1;32m----> 1\u001b[0m \u001b[43mfalse\u001b[49m\n",
      "\u001b[1;31mNameError\u001b[0m: name 'false' is not defined"
     ]
    }
   ],
   "source": [
    "false"
   ]
  },
  {
   "cell_type": "code",
   "execution_count": 61,
   "id": "1e56dbe2",
   "metadata": {},
   "outputs": [
    {
     "ename": "NameError",
     "evalue": "name 'FALSE' is not defined",
     "output_type": "error",
     "traceback": [
      "\u001b[1;31m---------------------------------------------------------------------------\u001b[0m",
      "\u001b[1;31mNameError\u001b[0m                                 Traceback (most recent call last)",
      "Cell \u001b[1;32mIn[61], line 1\u001b[0m\n\u001b[1;32m----> 1\u001b[0m \u001b[43mFALSE\u001b[49m\n",
      "\u001b[1;31mNameError\u001b[0m: name 'FALSE' is not defined"
     ]
    }
   ],
   "source": [
    "FALSE"
   ]
  },
  {
   "cell_type": "code",
   "execution_count": 62,
   "id": "d18c4f09",
   "metadata": {},
   "outputs": [
    {
     "ename": "NameError",
     "evalue": "name 'FALSE' is not defined",
     "output_type": "error",
     "traceback": [
      "\u001b[1;31m---------------------------------------------------------------------------\u001b[0m",
      "\u001b[1;31mNameError\u001b[0m                                 Traceback (most recent call last)",
      "Cell \u001b[1;32mIn[62], line 1\u001b[0m\n\u001b[1;32m----> 1\u001b[0m \u001b[43mFALSE\u001b[49m\n",
      "\u001b[1;31mNameError\u001b[0m: name 'FALSE' is not defined"
     ]
    }
   ],
   "source": [
    "FALSE"
   ]
  },
  {
   "cell_type": "code",
   "execution_count": 63,
   "id": "266333fa",
   "metadata": {},
   "outputs": [
    {
     "ename": "NameError",
     "evalue": "name 'none' is not defined",
     "output_type": "error",
     "traceback": [
      "\u001b[1;31m---------------------------------------------------------------------------\u001b[0m",
      "\u001b[1;31mNameError\u001b[0m                                 Traceback (most recent call last)",
      "Cell \u001b[1;32mIn[63], line 1\u001b[0m\n\u001b[1;32m----> 1\u001b[0m \u001b[43mnone\u001b[49m\n",
      "\u001b[1;31mNameError\u001b[0m: name 'none' is not defined"
     ]
    }
   ],
   "source": [
    "none"
   ]
  },
  {
   "cell_type": "code",
   "execution_count": 64,
   "id": "a3d803e4",
   "metadata": {},
   "outputs": [],
   "source": [
    "None"
   ]
  },
  {
   "cell_type": "code",
   "execution_count": 65,
   "id": "a1f9a2b4",
   "metadata": {},
   "outputs": [
    {
     "ename": "TypeError",
     "evalue": "unsupported operand type(s) for +: 'int' and 'NoneType'",
     "output_type": "error",
     "traceback": [
      "\u001b[1;31m---------------------------------------------------------------------------\u001b[0m",
      "\u001b[1;31mTypeError\u001b[0m                                 Traceback (most recent call last)",
      "Cell \u001b[1;32mIn[65], line 1\u001b[0m\n\u001b[1;32m----> 1\u001b[0m \u001b[38;5;28;43;01mTrue\u001b[39;49;00m\u001b[43m \u001b[49m\u001b[38;5;241;43m+\u001b[39;49m\u001b[43m \u001b[49m\u001b[38;5;28;43;01mFalse\u001b[39;49;00m\u001b[43m \u001b[49m\u001b[38;5;241;43m+\u001b[39;49m\u001b[43m \u001b[49m\u001b[38;5;28;43;01mNone\u001b[39;49;00m\n",
      "\u001b[1;31mTypeError\u001b[0m: unsupported operand type(s) for +: 'int' and 'NoneType'"
     ]
    }
   ],
   "source": [
    "True + False + None"
   ]
  },
  {
   "cell_type": "code",
   "execution_count": 66,
   "id": "91fab4da",
   "metadata": {},
   "outputs": [
    {
     "data": {
      "text/plain": [
       "1"
      ]
     },
     "execution_count": 66,
     "metadata": {},
     "output_type": "execute_result"
    }
   ],
   "source": [
    "True + False"
   ]
  },
  {
   "cell_type": "code",
   "execution_count": 67,
   "id": "a4bd7aec",
   "metadata": {},
   "outputs": [
    {
     "data": {
      "text/plain": [
       "2"
      ]
     },
     "execution_count": 67,
     "metadata": {},
     "output_type": "execute_result"
    }
   ],
   "source": [
    "True + True"
   ]
  },
  {
   "cell_type": "code",
   "execution_count": 68,
   "id": "32b7db65",
   "metadata": {},
   "outputs": [
    {
     "data": {
      "text/plain": [
       "1"
      ]
     },
     "execution_count": 68,
     "metadata": {},
     "output_type": "execute_result"
    }
   ],
   "source": [
    "True + False * True - False"
   ]
  },
  {
   "cell_type": "code",
   "execution_count": 69,
   "id": "4fe5724a",
   "metadata": {},
   "outputs": [
    {
     "data": {
      "text/plain": [
       "1"
      ]
     },
     "execution_count": 69,
     "metadata": {},
     "output_type": "execute_result"
    }
   ],
   "source": [
    "True + (False * True) - False"
   ]
  },
  {
   "cell_type": "code",
   "execution_count": 70,
   "id": "5f879537",
   "metadata": {},
   "outputs": [
    {
     "data": {
      "text/plain": [
       "0"
      ]
     },
     "execution_count": 70,
     "metadata": {},
     "output_type": "execute_result"
    }
   ],
   "source": [
    "True + (False*True) - True"
   ]
  },
  {
   "cell_type": "code",
   "execution_count": 72,
   "id": "3ca1899b",
   "metadata": {},
   "outputs": [
    {
     "name": "stdout",
     "output_type": "stream",
     "text": [
      "0 <class 'int'>\n"
     ]
    }
   ],
   "source": [
    "b = True + (False*True) - True\n",
    "print(b,type(b))"
   ]
  },
  {
   "cell_type": "code",
   "execution_count": 75,
   "id": "b87f97b3",
   "metadata": {},
   "outputs": [
    {
     "name": "stdout",
     "output_type": "stream",
     "text": [
      " Additon  of 30 and 40 is = 70\n"
     ]
    }
   ],
   "source": [
    "num1 = 30\n",
    "num2 = 40\n",
    "result = num1 + num2\n",
    "print(f' Additon  of {num1} and {num2} is = {result}')"
   ]
  },
  {
   "cell_type": "markdown",
   "id": "17ce2f5f",
   "metadata": {},
   "source": [
    "# Syntax for complex is a+bj"
   ]
  },
  {
   "cell_type": "code",
   "execution_count": 77,
   "id": "971dbf5a",
   "metadata": {},
   "outputs": [
    {
     "name": "stdout",
     "output_type": "stream",
     "text": [
      "(10+20j) <class 'complex'>\n"
     ]
    }
   ],
   "source": [
    "c = 10+20j\n",
    "print(c,type(c))"
   ]
  },
  {
   "cell_type": "code",
   "execution_count": 78,
   "id": "db8ff028",
   "metadata": {},
   "outputs": [
    {
     "name": "stdout",
     "output_type": "stream",
     "text": [
      "(30+40j) <class 'complex'>\n"
     ]
    }
   ],
   "source": [
    "d = 30 + 40j\n",
    "print(d,type(d))"
   ]
  },
  {
   "cell_type": "code",
   "execution_count": 81,
   "id": "4d531ac7",
   "metadata": {},
   "outputs": [
    {
     "name": "stdout",
     "output_type": "stream",
     "text": [
      "(40+60j)\n"
     ]
    }
   ],
   "source": [
    "result = c+d\n",
    "print(result)"
   ]
  },
  {
   "cell_type": "code",
   "execution_count": 82,
   "id": "418878ce",
   "metadata": {},
   "outputs": [
    {
     "data": {
      "text/plain": [
       "(-20-20j)"
      ]
     },
     "execution_count": 82,
     "metadata": {},
     "output_type": "execute_result"
    }
   ],
   "source": [
    "c-d"
   ]
  },
  {
   "cell_type": "code",
   "execution_count": 84,
   "id": "8092f042",
   "metadata": {},
   "outputs": [
    {
     "data": {
      "text/plain": [
       "(10+20j)"
      ]
     },
     "execution_count": 84,
     "metadata": {},
     "output_type": "execute_result"
    }
   ],
   "source": [
    "c"
   ]
  },
  {
   "cell_type": "code",
   "execution_count": 85,
   "id": "5a3162ed",
   "metadata": {},
   "outputs": [
    {
     "data": {
      "text/plain": [
       "10.0"
      ]
     },
     "execution_count": 85,
     "metadata": {},
     "output_type": "execute_result"
    }
   ],
   "source": [
    "c.real"
   ]
  },
  {
   "cell_type": "code",
   "execution_count": 86,
   "id": "f4e72c5a",
   "metadata": {},
   "outputs": [
    {
     "data": {
      "text/plain": [
       "20.0"
      ]
     },
     "execution_count": 86,
     "metadata": {},
     "output_type": "execute_result"
    }
   ],
   "source": [
    "c.imag"
   ]
  },
  {
   "cell_type": "code",
   "execution_count": 88,
   "id": "3caf7463",
   "metadata": {},
   "outputs": [],
   "source": [
    "complex = 23+4j"
   ]
  },
  {
   "cell_type": "code",
   "execution_count": 2,
   "id": "739423fc",
   "metadata": {},
   "outputs": [],
   "source": [
    "define = 'angelina'"
   ]
  },
  {
   "cell_type": "code",
   "execution_count": 3,
   "id": "e32b80c1",
   "metadata": {},
   "outputs": [
    {
     "name": "stdout",
     "output_type": "stream",
     "text": [
      "angelina <class 'str'>\n"
     ]
    }
   ],
   "source": [
    "print(define,type(define))"
   ]
  },
  {
   "cell_type": "code",
   "execution_count": 4,
   "id": "0c923252",
   "metadata": {},
   "outputs": [
    {
     "name": "stdout",
     "output_type": "stream",
     "text": [
      "['False', 'None', 'True', 'and', 'as', 'assert', 'async', 'await', 'break', 'class', 'continue', 'def', 'del', 'elif', 'else', 'except', 'finally', 'for', 'from', 'global', 'if', 'import', 'in', 'is', 'lambda', 'nonlocal', 'not', 'or', 'pass', 'raise', 'return', 'try', 'while', 'with', 'yield']\n"
     ]
    }
   ],
   "source": [
    "import keyword as kw\n",
    "print(kw.kwlist)"
   ]
  },
  {
   "cell_type": "code",
   "execution_count": 5,
   "id": "56209858",
   "metadata": {},
   "outputs": [
    {
     "ename": "NameError",
     "evalue": "name 'nit' is not defined",
     "output_type": "error",
     "traceback": [
      "\u001b[1;31m---------------------------------------------------------------------------\u001b[0m",
      "\u001b[1;31mNameError\u001b[0m                                 Traceback (most recent call last)",
      "Cell \u001b[1;32mIn[5], line 2\u001b[0m\n\u001b[0;32m      1\u001b[0m NIT \u001b[38;5;241m=\u001b[39m \u001b[38;5;241m25\u001b[39m\n\u001b[1;32m----> 2\u001b[0m \u001b[38;5;28mprint\u001b[39m(\u001b[43mnit\u001b[49m)\n",
      "\u001b[1;31mNameError\u001b[0m: name 'nit' is not defined"
     ]
    }
   ],
   "source": [
    "NIT = 25\n",
    "print(nit)"
   ]
  },
  {
   "cell_type": "code",
   "execution_count": 6,
   "id": "b138b62f",
   "metadata": {},
   "outputs": [],
   "source": [
    "_firstname = 'angelina'"
   ]
  },
  {
   "cell_type": "code",
   "execution_count": 7,
   "id": "3942ba33",
   "metadata": {},
   "outputs": [
    {
     "name": "stdout",
     "output_type": "stream",
     "text": [
      "angelina\n"
     ]
    }
   ],
   "source": [
    "print(_firstname)"
   ]
  },
  {
   "cell_type": "code",
   "execution_count": 8,
   "id": "0fd213b4",
   "metadata": {},
   "outputs": [
    {
     "name": "stdout",
     "output_type": "stream",
     "text": [
      "i am allowed\n"
     ]
    }
   ],
   "source": [
    "h_ = 'i am allowed'\n",
    "print(h_)"
   ]
  },
  {
   "cell_type": "code",
   "execution_count": 9,
   "id": "dea64b5a",
   "metadata": {},
   "outputs": [],
   "source": [
    "t = 89"
   ]
  },
  {
   "cell_type": "code",
   "execution_count": 10,
   "id": "aebf0fc1",
   "metadata": {},
   "outputs": [
    {
     "name": "stdout",
     "output_type": "stream",
     "text": [
      "89 <class 'int'>\n"
     ]
    }
   ],
   "source": [
    "print(t,type(t))"
   ]
  },
  {
   "cell_type": "code",
   "execution_count": 11,
   "id": "67802c8b",
   "metadata": {},
   "outputs": [],
   "source": [
    "aaaaaaaaaaaaaaaaaaaaaaaaaaaaaaaaaaaaaaaaaaaa = 30"
   ]
  },
  {
   "cell_type": "code",
   "execution_count": 12,
   "id": "345f9a4b",
   "metadata": {},
   "outputs": [
    {
     "ename": "NameError",
     "evalue": "name 'aaaaaaaaaaa' is not defined",
     "output_type": "error",
     "traceback": [
      "\u001b[1;31m---------------------------------------------------------------------------\u001b[0m",
      "\u001b[1;31mNameError\u001b[0m                                 Traceback (most recent call last)",
      "Cell \u001b[1;32mIn[12], line 1\u001b[0m\n\u001b[1;32m----> 1\u001b[0m \u001b[38;5;28mprint\u001b[39m(\u001b[43maaaaaaaaaaa\u001b[49m)\n",
      "\u001b[1;31mNameError\u001b[0m: name 'aaaaaaaaaaa' is not defined"
     ]
    }
   ],
   "source": [
    "print(aaaaaaaaaaa)"
   ]
  },
  {
   "cell_type": "code",
   "execution_count": 13,
   "id": "19d1fd14",
   "metadata": {},
   "outputs": [
    {
     "name": "stdout",
     "output_type": "stream",
     "text": [
      "30 <class 'int'>\n"
     ]
    }
   ],
   "source": [
    "ax = 30\n",
    "print(ax,type(ax))"
   ]
  },
  {
   "cell_type": "code",
   "execution_count": 14,
   "id": "0850d57c",
   "metadata": {},
   "outputs": [],
   "source": [
    "is_active  = True"
   ]
  },
  {
   "cell_type": "code",
   "execution_count": 15,
   "id": "eef717f0",
   "metadata": {},
   "outputs": [
    {
     "name": "stdout",
     "output_type": "stream",
     "text": [
      "True <class 'bool'>\n"
     ]
    }
   ],
   "source": [
    "print(is_active,type(is_active))"
   ]
  },
  {
   "cell_type": "code",
   "execution_count": 16,
   "id": "36a40b38",
   "metadata": {},
   "outputs": [
    {
     "name": "stdout",
     "output_type": "stream",
     "text": [
      "30 <class 'int'>\n"
     ]
    }
   ],
   "source": [
    "x = 30\n",
    "print(x,type(x))"
   ]
  },
  {
   "cell_type": "code",
   "execution_count": 18,
   "id": "c0b1dafd",
   "metadata": {},
   "outputs": [
    {
     "name": "stdout",
     "output_type": "stream",
     "text": [
      "30 <class 'int'>\n"
     ]
    }
   ],
   "source": [
    "a = 30\n",
    "print(a,type(a))"
   ]
  },
  {
   "cell_type": "code",
   "execution_count": 19,
   "id": "c0208704",
   "metadata": {},
   "outputs": [
    {
     "name": "stdout",
     "output_type": "stream",
     "text": [
      "40 <class 'int'>\n"
     ]
    }
   ],
   "source": [
    "a = 40\n",
    "print(a,type(a))"
   ]
  },
  {
   "cell_type": "code",
   "execution_count": 20,
   "id": "4aed82e5",
   "metadata": {},
   "outputs": [
    {
     "ename": "ValueError",
     "evalue": "too many values to unpack (expected 2)",
     "output_type": "error",
     "traceback": [
      "\u001b[1;31m---------------------------------------------------------------------------\u001b[0m",
      "\u001b[1;31mValueError\u001b[0m                                Traceback (most recent call last)",
      "Cell \u001b[1;32mIn[20], line 1\u001b[0m\n\u001b[1;32m----> 1\u001b[0m a,b \u001b[38;5;241m=\u001b[39m \u001b[38;5;241m10\u001b[39m,\u001b[38;5;241m20\u001b[39m,\u001b[38;5;241m30\u001b[39m\n",
      "\u001b[1;31mValueError\u001b[0m: too many values to unpack (expected 2)"
     ]
    }
   ],
   "source": [
    "a,b = 10,20,30"
   ]
  },
  {
   "cell_type": "code",
   "execution_count": 21,
   "id": "a5a93e81",
   "metadata": {},
   "outputs": [],
   "source": [
    "a,b,c = 10,20,30"
   ]
  },
  {
   "cell_type": "code",
   "execution_count": 22,
   "id": "f69f3610",
   "metadata": {},
   "outputs": [
    {
     "name": "stdout",
     "output_type": "stream",
     "text": [
      "10 20 30\n"
     ]
    }
   ],
   "source": [
    "print(a,b,c)"
   ]
  },
  {
   "cell_type": "code",
   "execution_count": 23,
   "id": "4f6443df",
   "metadata": {},
   "outputs": [
    {
     "data": {
      "text/plain": [
       "30"
      ]
     },
     "execution_count": 23,
     "metadata": {},
     "output_type": "execute_result"
    }
   ],
   "source": [
    "a\n",
    "b\n",
    "c"
   ]
  },
  {
   "cell_type": "code",
   "execution_count": 24,
   "id": "a861ac10",
   "metadata": {},
   "outputs": [
    {
     "data": {
      "text/plain": [
       "70"
      ]
     },
     "execution_count": 24,
     "metadata": {},
     "output_type": "execute_result"
    }
   ],
   "source": [
    "_+40"
   ]
  },
  {
   "cell_type": "code",
   "execution_count": 25,
   "id": "c1da4801",
   "metadata": {},
   "outputs": [
    {
     "name": "stdout",
     "output_type": "stream",
     "text": [
      "10\n",
      "20\n",
      "30\n"
     ]
    }
   ],
   "source": [
    "print(a)\n",
    "print(b)\n",
    "print(c)"
   ]
  },
  {
   "cell_type": "code",
   "execution_count": 26,
   "id": "73a8dc63",
   "metadata": {},
   "outputs": [
    {
     "name": "stdout",
     "output_type": "stream",
     "text": [
      "10 20 30\n"
     ]
    }
   ],
   "source": [
    "print(a,b,c)"
   ]
  },
  {
   "cell_type": "code",
   "execution_count": null,
   "id": "547616c5",
   "metadata": {},
   "outputs": [],
   "source": []
  }
 ],
 "metadata": {
  "kernelspec": {
   "display_name": "Python 3",
   "language": "python",
   "name": "python3"
  },
  "language_info": {
   "codemirror_mode": {
    "name": "ipython",
    "version": 3
   },
   "file_extension": ".py",
   "mimetype": "text/x-python",
   "name": "python",
   "nbconvert_exporter": "python",
   "pygments_lexer": "ipython3",
   "version": "3.10.6"
  }
 },
 "nbformat": 4,
 "nbformat_minor": 5
}
